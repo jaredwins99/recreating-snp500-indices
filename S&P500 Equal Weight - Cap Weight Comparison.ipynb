{
 "cells": [
  {
   "cell_type": "markdown",
   "id": "52816f10-39cd-4f5e-9cc3-02e1d8599753",
   "metadata": {
    "tags": []
   },
   "source": [
    "Imports"
   ]
  },
  {
   "cell_type": "code",
   "execution_count": 16,
   "id": "72d32742-c434-46c7-92b1-22e83090fac4",
   "metadata": {
    "tags": []
   },
   "outputs": [],
   "source": [
    "import yfinance as yf\n",
    "import pandas as pd\n",
    "import numpy as np\n",
    "import matplotlib.pyplot as plt\n",
    "\n",
    "import statistics\n",
    "import math\n",
    "import numbers\n",
    "\n",
    "from tqdm import tqdm\n",
    "from time import sleep\n",
    "import xlsxwriter\n",
    "import openpyxl\n",
    "import os\n",
    "import glob"
   ]
  },
  {
   "cell_type": "markdown",
   "id": "344052c5-e88c-41e1-9cb0-086d956f77c0",
   "metadata": {},
   "source": [
    "Data Scraping"
   ]
  },
  {
   "cell_type": "code",
   "execution_count": 32,
   "id": "1ea3a32e-39fa-426e-86f1-e08a95209725",
   "metadata": {},
   "outputs": [],
   "source": [
    "# Scrape the data for the list of companies in the S&P 500 from tables off the wikipedia page\n",
    "## List of DataFrame\n",
    "wikipedia_tables = pd.read_html('https://en.wikipedia.org/wiki/List_of_S%26P_500_companies')\n",
    "\n",
    "# Take the first table, which has the current list of companies\n",
    "## DataFrame\n",
    "snp500_table = wikipedia_tables[0]\n",
    "\n",
    "# View the column attributes\n",
    "## List of String\n",
    "snp500_table_columns = snp500_table.columns.values.tolist()\n",
    "\n",
    "# Take the ticker symbols\n",
    "## Series\n",
    "snp500_tickers = snp500_table.loc[:,'Symbol']\n",
    "\n",
    "# Reformat\n",
    "## List of String\n",
    "snp500_tickers = list(snp500_tickers)"
   ]
  },
  {
   "cell_type": "markdown",
   "id": "50b65cd7-0921-4985-80ad-4a66d1be8d97",
   "metadata": {},
   "source": [
    "Fundamental Data"
   ]
  },
  {
   "cell_type": "code",
   "execution_count": 3,
   "id": "aaf30b84-e269-48fd-90a5-e3dd1e9e3c1b",
   "metadata": {
    "tags": []
   },
   "outputs": [
    {
     "data": {
      "text/plain": [
       "'\\n# Create a place of storage for fundamental stock information (P/E, market cap, location)\\n## Dict of (String,DataFrame)\\nfundamentals = {}\\n\\nstocks = yf.Tickers(snp500_tickers)\\n\\n# Loop through the ticker symbols\\nfor ticker_string in tqdm(snp500_tickers):\\n    stock = stocks.tickers ## Dict of (String,Ticker)\\n    df = pd.DataFrame.from_dict(stock[ticker_string].info, orient=\"index\") ## DataFrame\\n    df.columns = [\\'Value\\']\\n    fundamentals[ticker_string] = df\\n'"
      ]
     },
     "execution_count": 3,
     "metadata": {},
     "output_type": "execute_result"
    }
   ],
   "source": [
    "# This method is extremely slow because fundamental data has to be retrieved from Ticker objects in yfinance\n",
    "# Ticker objects download data slowly because they don't have a batch call feature\n",
    "# So instead, we will run this cell once and write the results to a spreadsheet to then be read in again as our fundamental data\n",
    "\n",
    "\"\"\"\n",
    "# Create a place of storage for fundamental stock information (P/E, market cap, location)\n",
    "## Dict of (String,DataFrame)\n",
    "fundamentals = {}\n",
    "\n",
    "stocks = yf.Tickers(snp500_tickers)\n",
    "\n",
    "# Loop through the ticker symbols\n",
    "for ticker_string in tqdm(snp500_tickers):\n",
    "    stock = stocks.tickers ## Dict of (String,Ticker)\n",
    "    df = pd.DataFrame.from_dict(stock[ticker_string].info, orient=\"index\") ## DataFrame\n",
    "    df.columns = ['Value']\n",
    "    fundamentals[ticker_string] = df\n",
    "\"\"\""
   ]
  },
  {
   "cell_type": "markdown",
   "id": "c9caf231-eecd-48b2-a527-7695f8bed1d1",
   "metadata": {},
   "source": [
    "Writing to Excel"
   ]
  },
  {
   "cell_type": "code",
   "execution_count": 4,
   "id": "9479a1d0-17d8-456c-b50d-40f1568afdae",
   "metadata": {},
   "outputs": [
    {
     "data": {
      "text/plain": [
       "\"\\nwriter = pd.ExcelWriter('Fundamentals.xlsx', engine='xlsxwriter')\\n\\nfor df_name, df in fundamentals.items():\\n    df.to_excel(writer, sheet_name=df_name)\\n\\nwriter.save()\\n\""
      ]
     },
     "execution_count": 4,
     "metadata": {},
     "output_type": "execute_result"
    }
   ],
   "source": [
    "\"\"\"\n",
    "writer = pd.ExcelWriter('Fundamentals.xlsx', engine='xlsxwriter')\n",
    "\n",
    "for df_name, df in fundamentals.items():\n",
    "    df.to_excel(writer, sheet_name=df_name)\n",
    "\n",
    "writer.save()\n",
    "\"\"\""
   ]
  },
  {
   "cell_type": "markdown",
   "id": "2375d2a2-873f-48d0-8025-1dc4a8662fe2",
   "metadata": {},
   "source": [
    "Converting from Excel to CSV"
   ]
  },
  {
   "cell_type": "code",
   "execution_count": 5,
   "id": "69c7ebbb-5777-409f-9038-91528d1d845d",
   "metadata": {},
   "outputs": [],
   "source": [
    "# Use a VBA script to convert each sheet to a seperate CSV"
   ]
  },
  {
   "cell_type": "markdown",
   "id": "69e2225a-bbc0-4bbe-b3b8-810321fa85e5",
   "metadata": {},
   "source": [
    "Reading from CSV"
   ]
  },
  {
   "cell_type": "code",
   "execution_count": 37,
   "id": "433fcee1-8371-47e3-8653-1807c25ec044",
   "metadata": {},
   "outputs": [],
   "source": [
    "# Remove BF.B and BRK.B to be added afterwards\n",
    "snp500_tickers_503 = snp500_tickers.copy()\n",
    "snp500_tickers_503.remove('BRK.B')\n",
    "snp500_tickers_503.remove('BF.B')\n",
    "snp500_tickers_503.sort()\n",
    "\n",
    "# Sort the tickers alphabetically so they match with the list of csv files\n",
    "snp500_tickers.sort()"
   ]
  },
  {
   "cell_type": "code",
   "execution_count": 38,
   "id": "8989b308-d817-4dbe-b40d-e66e7a7555a8",
   "metadata": {},
   "outputs": [
    {
     "name": "stderr",
     "output_type": "stream",
     "text": [
      "100%|███████████████████████████████████████| 503/503 [00:01<00:00, 260.62it/s]\n"
     ]
    }
   ],
   "source": [
    "fundamentals = {}\n",
    "\n",
    "# Get to the working directory and enter the folder with the sheets\n",
    "path = os.getcwd()+\"/Fundamentals Sheets\"\n",
    "# Take all the csv files\n",
    "files = glob.glob(os.path.join(path, \"*.csv\"))\n",
    "\n",
    "# Loop through all the csv files to make a dataframe from each sheet\n",
    "for i in tqdm(range(len(files))):\n",
    "    file = files[i]\n",
    "    ticker_string = snp500_tickers_503[i]\n",
    "    # Encode as latin-1 to account for special characters\n",
    "    df = pd.read_csv(file, encoding='latin-1',index_col=0)\n",
    "    df.columns = ['Value']\n",
    "    fundamentals[ticker_string] = df"
   ]
  },
  {
   "cell_type": "code",
   "execution_count": 39,
   "id": "a0aa3868-7f0f-4fdc-adb9-4cf1c321a0b8",
   "metadata": {
    "tags": []
   },
   "outputs": [],
   "source": [
    "# Example ticker\n",
    "example = 'MMM'\n",
    "\n",
    "# View all the fundamental data's attributes\n",
    "## List of String\n",
    "fundamental_attributes = fundamentals[example].index.values.tolist()"
   ]
  },
  {
   "cell_type": "markdown",
   "id": "9f88890f-bd78-41b6-b661-16527aad5822",
   "metadata": {},
   "source": [
    "Outstanding Shares\n",
    "\n",
    "Here we are making a simplification to the model. Even though the number of shares change over time because of things like stock splits, we will use the current number of shares to determine the historical market capitalization of each company and the index. Also, we will not be doing a float adjustment as is done for the real S&P500."
   ]
  },
  {
   "cell_type": "code",
   "execution_count": 54,
   "id": "369a2d51-3f3c-424b-a532-c30aebb97e3a",
   "metadata": {},
   "outputs": [
    {
     "name": "stdout",
     "output_type": "stream",
     "text": [
      "['OGN']\n"
     ]
    }
   ],
   "source": [
    "## Dict\n",
    "outstanding_shares = dict()\n",
    "\n",
    "## Loop through the ticker symbols to add each outstanding shares to the dict\n",
    "for ticker_string in snp500_tickers_503:\n",
    "     outstanding_shares[ticker_string] = float(fundamentals[ticker_string].loc['sharesOutstanding','Value'])\n",
    "        \n",
    "# Find all the companies without outstanding shares data, including \n",
    "companies_without_shares = []\n",
    "for key, value in outstanding_shares.items():\n",
    "    if math.isnan(value):#or not isinstance(value, numbers.Number): \n",
    "        companies_without_shares.append(key)\n",
    "\n",
    "# Turns out to be NVDA (plus BRK.B and BF.B which don't have price data)\n",
    "print(companies_without_shares)"
   ]
  },
  {
   "cell_type": "markdown",
   "id": "b7c87996-0247-45eb-9735-49b292cf8c1d",
   "metadata": {},
   "source": [
    "Fix to Add Missing Outstanding Shares Values"
   ]
  },
  {
   "cell_type": "code",
   "execution_count": 55,
   "id": "6b776aff-d751-48a1-a526-9487dd0a42a7",
   "metadata": {},
   "outputs": [],
   "source": [
    "yf.Ticker(\n",
    "\n",
    "# yfinance does not have the outstandingShares attribute for the following three companies\n",
    "# so we will look online for the number of shares in 2021 \n",
    "# so we will not add them\n",
    "\n",
    "#berk_shares = 2.281 * math.pow(10,9)\n",
    "#bf_shares = 0.481 * math.pow(10,9)\n",
    "ogn_shares = 2.532 * math.pow(10,6)\n",
    "\n",
    "#berk = yf.Ticker('BRK.B')\n",
    "#fundamentals['BRK.B'] = berk.info['sharesOutstanding']\n",
    "#outstanding_shares['BRK.B'] = berk_shares\n",
    "\n",
    "#bf = yf.Ticker('BF.B')\n",
    "#fundamentals['BF.B']= bf.info['sharesOutstanding']\n",
    "#outstanding_shares['BF.B'] = bf_shares\n",
    "\n",
    "#ogn = yf.Ticker('OGN')\n",
    "#fundamentals['OGN']= ogn.info['sharesOutstanding']\n",
    "outstanding_shares['OGN'] = ogn_shares"
   ]
  },
  {
   "cell_type": "markdown",
   "id": "af1f124f-530e-4ec6-a619-ade22e9f0b0a",
   "metadata": {},
   "source": [
    "Historical Data"
   ]
  },
  {
   "cell_type": "code",
   "execution_count": 183,
   "id": "c6d181f3-61b6-4e41-a4de-e19f9382232d",
   "metadata": {},
   "outputs": [
    {
     "name": "stdout",
     "output_type": "stream",
     "text": [
      "[*********************100%***********************]  505 of 505 completed\n",
      "\n",
      "2 Failed downloads:\n",
      "- BRK.B: No data found, symbol may be delisted\n",
      "- BF.B: No data found for this date range, symbol may be delisted\n"
     ]
    }
   ],
   "source": [
    "# Retrieve stock data through a batch call for a faster download\n",
    "## MultiIndex\n",
    "snp500_data = yf.download(\n",
    "    tickers = snp500_tickers,\n",
    "    period = '1y',\n",
    "    interval = '1d',\n",
    "    group_by='column'\n",
    ")"
   ]
  },
  {
   "cell_type": "markdown",
   "id": "478201c7-0b02-4da9-98ac-6ee265f6d00b",
   "metadata": {},
   "source": [
    "Removing Dates and Companies With Missing Values"
   ]
  },
  {
   "cell_type": "code",
   "execution_count": 184,
   "id": "64b5a28f-8554-4071-92f7-a0b973e20105",
   "metadata": {},
   "outputs": [],
   "source": [
    "# If desired, convert multi-level data to single-level data, but we won't do that now\n",
    "## MultiIndex -> DataFrame\n",
    "snp500_data_singlelvl = snp500_data.stack(level=0).rename_axis(['Date', 'Ticker']).reset_index(level=1)\n",
    "\n",
    "# High Low Open Close AdjClose Volume\n",
    "\n",
    "# We want adjusted close because it accounts for dividends and stock splits\n",
    "# We don't want dividends and stock splits to confound anything when analyzing correlation, etc.\n",
    "## DataFrame\n",
    "prices = snp500_data['Adj Close']\n",
    "\n",
    "# Remove missing values\n",
    "# This accounts for both holidays and weekends (normal)\n",
    "prices = prices.dropna(axis=0, how='all')\n",
    "\n",
    "\n",
    "# Fill in missing values with last observation,\n",
    "# This accounts for yfinance's missing data\n",
    "prices = prices.fillna(axis=0, method='ffill')\n",
    "# And fill in the first value is missing\n",
    "prices = prices.fillna(axis=0, method='bfill')\n",
    "\n",
    "# Check for the tickers with no price information\n",
    "# And remove them from the dataframe as well as the index\n",
    "no_price_info = prices.columns[prices.isna().any()].tolist()\n",
    "prices = prices.dropna(axis=1, how='any')\n",
    "\n",
    "# The dates to loop through\n",
    "## Series\n",
    "dates = prices.index"
   ]
  },
  {
   "cell_type": "markdown",
   "id": "14f134af-8b9c-475a-8cbb-c1031480c42a",
   "metadata": {},
   "source": [
    "Calculating Capitalization Weighted Index Weights\n",
    "\n",
    "This tells the percentage that companies in the index affect it. For instance, AAPL is around 6% of the S&P500."
   ]
  },
  {
   "cell_type": "code",
   "execution_count": 190,
   "id": "48c28f96-1b20-4752-aa0f-079093efb6ec",
   "metadata": {},
   "outputs": [
    {
     "name": "stdout",
     "output_type": "stream",
     "text": [
      "                   A       AAL       AAP      AAPL      ABBV       ABC  \\\n",
      "Date                                                                     \n",
      "2020-09-18  0.001048  0.000299  0.000335  0.061508  0.005318  0.000694   \n",
      "2020-09-21  0.001047   0.00028  0.000327  0.064141  0.005322  0.000695   \n",
      "2020-09-22  0.001042  0.000281  0.000328  0.064525  0.005242  0.000685   \n",
      "2020-09-23  0.001051  0.000278  0.000328    0.0634  0.005287  0.000694   \n",
      "2020-09-24  0.001041  0.000274  0.000328  0.063856  0.005197  0.000696   \n",
      "...              ...       ...       ...       ...       ...       ...   \n",
      "2021-09-13  0.001319  0.000317  0.000316  0.062613  0.004811  0.000651   \n",
      "2021-09-14   0.00133  0.000317  0.000321  0.062411  0.004796  0.000652   \n",
      "2021-09-15  0.001329  0.000317  0.000327  0.062252  0.004813  0.000661   \n",
      "2021-09-16  0.001328  0.000326  0.000331  0.062246  0.004834  0.000653   \n",
      "2021-09-17  0.001345  0.000326  0.000331  0.061661  0.004862  0.000655   \n",
      "\n",
      "                ABMD       ABT       ACN      ADBE  ...       XEL      XLNX  \\\n",
      "Date                                                ...                       \n",
      "2020-09-18  0.000422  0.006543  0.005181  0.007807  ...  0.001228  0.000866   \n",
      "2020-09-21  0.000428  0.006566  0.005193  0.008039  ...  0.001238  0.000865   \n",
      "2020-09-22  0.000429  0.006432  0.005209  0.008148  ...   0.00123  0.000862   \n",
      "2020-09-23  0.000425  0.006466  0.005201  0.008075  ...  0.001249   0.00086   \n",
      "2020-09-24  0.000428  0.006333  0.004821  0.008004  ...  0.001262  0.000872   \n",
      "...              ...       ...       ...       ...  ...       ...       ...   \n",
      "2021-09-13  0.000405  0.005685  0.005452  0.007784  ...  0.000908  0.000965   \n",
      "2021-09-14  0.000409  0.005741  0.005507  0.007833  ...  0.000907  0.000975   \n",
      "2021-09-15  0.000407  0.005711  0.005519  0.007958  ...   0.00089   0.00098   \n",
      "2021-09-16  0.000411  0.005718  0.005492  0.008019  ...  0.000885  0.000979   \n",
      "2021-09-17  0.000411   0.00574  0.005432  0.007963  ...   0.00088  0.000966   \n",
      "\n",
      "                 XOM      XRAY       XYL       YUM       ZBH      ZBRA  \\\n",
      "Date                                                                     \n",
      "2020-09-18  0.005145  0.000352  0.000535  0.000945  0.001008   0.00048   \n",
      "2020-09-21  0.005101  0.000344  0.000528  0.000928  0.000985  0.000472   \n",
      "2020-09-22  0.004927  0.000339  0.000526  0.000932  0.000987  0.000474   \n",
      "2020-09-23  0.004891  0.000334  0.000529  0.000947  0.000998  0.000481   \n",
      "2020-09-24  0.004866  0.000333  0.000526  0.000961  0.000983  0.000482   \n",
      "...              ...       ...       ...       ...       ...       ...   \n",
      "2021-09-13  0.005937  0.000342  0.000605  0.000974  0.000745  0.000786   \n",
      "2021-09-14   0.00589  0.000344  0.000608  0.000979  0.000785  0.000787   \n",
      "2021-09-15  0.006036  0.000344   0.00061  0.000967  0.000769  0.000786   \n",
      "2021-09-16  0.005981  0.000344  0.000605  0.000965  0.000772  0.000792   \n",
      "2021-09-17  0.005964  0.000341  0.000605  0.000967  0.000781  0.000778   \n",
      "\n",
      "                ZION       ZTS  \n",
      "Date                            \n",
      "2020-09-18  0.000175  0.003245  \n",
      "2020-09-21  0.000168  0.003286  \n",
      "2020-09-22   0.00016  0.003265  \n",
      "2020-09-23  0.000162  0.003304  \n",
      "2020-09-24  0.000161  0.003266  \n",
      "...              ...       ...  \n",
      "2021-09-13  0.000242  0.003004  \n",
      "2021-09-14  0.000237  0.003002  \n",
      "2021-09-15   0.00024  0.002982  \n",
      "2021-09-16  0.000239  0.002969  \n",
      "2021-09-17  0.000239  0.002933  \n",
      "\n",
      "[252 rows x 503 columns]\n"
     ]
    }
   ],
   "source": [
    "# The total market capitalization of the S&P500 has changed throughout time, so we need one market cap for each time step\n",
    "# We will store the market caps here\n",
    "snp_market_caps = []\n",
    "all_cap_weights = pd.DataFrame(columns=snp500_tickers_503, index=dates)\n",
    "# Loop through both dates and companies to calculate market caps and weights for each time step\n",
    "\n",
    "for date in dates:\n",
    "    \n",
    "    snp_market_cap_at_time_t = 0\n",
    "    market_caps_at_time_t = []\n",
    "    \n",
    "    for ticker_string in snp500_tickers_503:\n",
    "        # Market Cap = Stock Price * Outstanding Shares\n",
    "        price = prices.loc[date,ticker_string]\n",
    "        shares = outstanding_shares[ticker_string]\n",
    "        \n",
    "        #print(ticker_string)\n",
    "        #print(shares)\n",
    "        market_cap = price*shares\n",
    "        #print(market_cap)\n",
    "        # Add to the list of company market caps\n",
    "        market_caps_at_time_t.append(market_cap)\n",
    "        snp_market_cap_at_time_t += market_cap\n",
    "    \n",
    "    snp_market_caps.append(snp_market_cap_at_time_t)\n",
    "    market_caps_array = np.array(market_caps_at_time_t)\n",
    "    weights_at_time_t = market_caps_array/snp_market_cap_at_time_t\n",
    "    all_cap_weights.loc[date] = pd.Series(weights_at_time_t, index=snp500_tickers_503)"
   ]
  },
  {
   "cell_type": "markdown",
   "id": "1a95e65c-cb5a-463b-9e83-60b82b79689d",
   "metadata": {},
   "source": [
    "Capitalization Weighted S&P 500"
   ]
  },
  {
   "cell_type": "code",
   "execution_count": 191,
   "id": "c178cfaa-b768-4576-a8c0-74c3e01c4dd5",
   "metadata": {},
   "outputs": [
    {
     "name": "stdout",
     "output_type": "stream",
     "text": [
      "                  Price\n",
      "Date                   \n",
      "2020-09-18  2852.954508\n",
      "2020-09-21  2818.795878\n",
      "2020-09-22  2846.083932\n",
      "2020-09-23  2775.094625\n",
      "2020-09-24  2783.548960\n",
      "...                 ...\n",
      "2021-09-13  3948.237426\n",
      "2021-09-14  3923.114596\n",
      "2021-09-15  3957.304658\n",
      "2021-09-16  3951.298493\n",
      "2021-09-17  3915.618743\n",
      "\n",
      "[252 rows x 1 columns]\n"
     ]
    }
   ],
   "source": [
    "# Set up our index, which will be an array of the S&P500 at different time points\n",
    "cap_snp500_data = []\n",
    "\n",
    "for date in dates:\n",
    "    cap_snp500_at_time_t = 0\n",
    "    for ticker_string in snp500_tickers_503:\n",
    "        # Amount of Stock = Stock Price * Cap Weight\n",
    "        price = prices.loc[date,ticker_string]\n",
    "        weight = all_cap_weights.loc[date,ticker_string]\n",
    "        shares = outstanding_shares[ticker_string]\n",
    "        # Just makes the index a more understandable number\n",
    "        divisor = 10000000000\n",
    "        # SNP500 is the sum of all the weighted stocks\n",
    "        cap_snp500_at_time_t += price*shares/divisor\n",
    "    # Add for each date\n",
    "    cap_snp500_data.append(cap_snp500_at_time_t)\n",
    "\n",
    "cap_snp500 = pd.DataFrame(cap_snp500_data, columns=['Price'], index=dates)\n",
    "print(cap_snp500)"
   ]
  },
  {
   "cell_type": "markdown",
   "id": "a5890ee7-4f1c-4000-b223-6455e32e8ff8",
   "metadata": {},
   "source": [
    "Equal Weighted S&P 500"
   ]
  },
  {
   "cell_type": "code",
   "execution_count": 192,
   "id": "70c26ccc-9032-4e42-9ee6-8c2e14ad426d",
   "metadata": {},
   "outputs": [
    {
     "name": "stdout",
     "output_type": "stream",
     "text": [
      "                  Price\n",
      "Date                   \n",
      "2020-09-18  2913.383654\n",
      "2020-09-21  2865.237032\n",
      "2020-09-22  2899.234693\n",
      "2020-09-23  2831.756796\n",
      "2020-09-24  2838.009242\n",
      "...                 ...\n",
      "2021-09-13  4101.148324\n",
      "2021-09-14  4083.623160\n",
      "2021-09-15  4115.123330\n",
      "2021-09-16  4114.979122\n",
      "2021-09-17  4084.091465\n",
      "\n",
      "[252 rows x 1 columns]\n"
     ]
    }
   ],
   "source": [
    "all_equal_weights = pd.DataFrame(columns=snp500_tickers_503, index=dates)\n",
    "\n",
    "all_equal_weights = all_equal_weights.fillna(1/503.0)\n",
    "\n",
    "# Set up our index, which will be an array of the S&P500 at different time points\n",
    "equal_snp500_data = []\n",
    "\n",
    "for date in dates:\n",
    "    equal_snp500_at_time_t = 0\n",
    "    for ticker_string in snp500_tickers_503:\n",
    "        # Amount of Stock = Stock Price * Equal Weight\n",
    "        price = prices.loc[date,ticker_string]\n",
    "        weight = all_equal_weights.loc[date,ticker_string]\n",
    "        shares = outstanding_shares[ticker_string]\n",
    "        # Just makes the index a more understandable number\n",
    "        divisor = 1/20.0\n",
    "        # SNP500 is the sum of all the weighted stocks\n",
    "        equal_snp500_at_time_t += price*weight/divisor\n",
    "    # Add for each date\n",
    "    equal_snp500_data.append(equal_snp500_at_time_t)\n",
    "\n",
    "equal_snp500 = pd.DataFrame(equal_snp500_data, columns=['Price'], index=dates)\n",
    "print(equal_snp500)"
   ]
  },
  {
   "cell_type": "markdown",
   "id": "8a68cda0-cf87-4e7a-9ee4-3ac323dc2641",
   "metadata": {},
   "source": [
    "Graphing the S&P500 Indices\n",
    "\n",
    "The exact values are not the same as the real S&P indices because:\n",
    "\n",
    "(1) they don't use the same divisor as the real S&P500 (least important)\n",
    "\n",
    "(2) they don't adjust the outstanding shares to free float shares\n",
    "\n",
    "(3) they don't include BRK.B (Berkshire Hathaway B) and BF.B (Brown-Forman B) (most important)"
   ]
  },
  {
   "cell_type": "code",
   "execution_count": 193,
   "id": "aa3f9355-b062-44b8-ba18-fe7f455d5615",
   "metadata": {},
   "outputs": [
    {
     "data": {
      "image/png": "[encoded data removed]",
      "text/plain": [
       "<Figure size 432x288 with 1 Axes>"
      ]
     },
     "metadata": {
      "needs_background": "light"
     },
     "output_type": "display_data"
    }
   ],
   "source": [
    "plt.plot(cap_snp500.index, cap_snp500['Price'], label='Cap Weight', linewidth=3)\n",
    "plt.plot(equal_snp500.index, equal_snp500['Price'], color='red', label='Equal Weight', linewidth=3)\n",
    "\n",
    "plt.legend()\n",
    "\n",
    "plt.show()"
   ]
  },
  {
   "cell_type": "markdown",
   "id": "a2e29831-d4a1-4f9b-9854-c13d37ba280c",
   "metadata": {},
   "source": [
    "Statistical Measures"
   ]
  },
  {
   "cell_type": "markdown",
   "id": "0e0d737b-ed17-480f-9bac-907ed40f3c85",
   "metadata": {},
   "source": [
    "Correlation"
   ]
  },
  {
   "cell_type": "code",
   "execution_count": 194,
   "id": "b3a896fb-1242-4703-a0ab-b318b490ff00",
   "metadata": {},
   "outputs": [],
   "source": [
    "x = cap_snp500['Price'].to_numpy()\n",
    "y = equal_snp500['Price'].to_numpy()\n",
    "print(np.corrcoef(x,y))\n",
    "\n",
    "cap_returns = cap_snp500.pct_change()\n",
    "equal_returns = equal_snp500.pct_change()"
   ]
  },
  {
   "cell_type": "markdown",
   "id": "826d3879-6b25-43e6-b960-6017b8449896",
   "metadata": {},
   "source": [
    "Average Daily Returns"
   ]
  },
  {
   "cell_type": "code",
   "execution_count": 197,
   "id": "afdf7b93-2446-40f3-872f-d2955ea59f64",
   "metadata": {},
   "outputs": [
    {
     "name": "stdout",
     "output_type": "stream",
     "text": [
      "Cap Weighted\n",
      "0.001300777926942965\n",
      "Equal Weighted\n",
      "0.0013861749093047066\n"
     ]
    }
   ],
   "source": [
    "print('Cap Weighted')\n",
    "print(np.mean(cap_returns)['Price'])\n",
    "print('Equal Weighted')\n",
    "print(np.mean(equal_returns)['Price'])"
   ]
  },
  {
   "cell_type": "markdown",
   "id": "f43b49b9-a06c-4df3-9ea8-04175e1357fa",
   "metadata": {},
   "source": [
    "Volatility"
   ]
  },
  {
   "cell_type": "code",
   "execution_count": 198,
   "id": "9c78e1b4-ea03-4c87-b938-9e3fd3813a3a",
   "metadata": {},
   "outputs": [
    {
     "name": "stdout",
     "output_type": "stream",
     "text": [
      "Cap Weighted\n",
      "0.008775310777531591\n",
      "Equal Weighted\n",
      "0.008883406042741517\n"
     ]
    }
   ],
   "source": [
    "print('Cap Weighted')\n",
    "print(np.std(cap_returns)['Price'])\n",
    "print('Equal Weighted')\n",
    "print(np.std(equal_returns)['Price'])"
   ]
  }
 ],
 "metadata": {
  "kernelspec": {
   "display_name": "Python 3 (ipykernel)",
   "language": "python",
   "name": "python3"
  },
  "language_info": {
   "codemirror_mode": {
    "name": "ipython",
    "version": 3
   },
   "file_extension": ".py",
   "mimetype": "text/x-python",
   "name": "python",
   "nbconvert_exporter": "python",
   "pygments_lexer": "ipython3",
   "version": "3.8.5"
  }
 },
 "nbformat": 4,
 "nbformat_minor": 5
}
